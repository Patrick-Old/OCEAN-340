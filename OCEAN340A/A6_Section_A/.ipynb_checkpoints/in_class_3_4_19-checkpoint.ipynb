{
 "cells": [
  {
   "cell_type": "markdown",
   "metadata": {},
   "source": [
    "Xarray And Errors in Python Demo\n",
    "\n",
    "This assignment is simply a demo of how to use xarray to analyze geospatial data. The code below was generated in class together as we worked through the problem set using experiential learning practices as a class. Additionally, a discuss was had on generating errors in Python, and how to do this effectively.\n",
    "\n",
    "Much of class was taken up by students working on their final projects, and this was only meant as a small addition to that time."
   ]
  },
  {
   "cell_type": "code",
   "execution_count": 1,
   "metadata": {},
   "outputs": [],
   "source": [
    "import xarray as xr\n",
    "import numpy as np"
   ]
  },
  {
   "cell_type": "code",
   "execution_count": 2,
   "metadata": {},
   "outputs": [
    {
     "name": "stderr",
     "output_type": "stream",
     "text": [
      "/anaconda3/lib/python3.7/site-packages/xarray/core/nanops.py:161: RuntimeWarning: Mean of empty slice\n",
      "  return np.nanmean(a, axis=axis, dtype=dtype)\n"
     ]
    }
   ],
   "source": [
    "# open dataset using xarray, no need to decode times\n",
    "dataset = xr.open_dataset(\"woa13_decav_t01_5dv2.nc\", decode_times=False)\n",
    "# select for data of interest\n",
    "dataset_lats = dataset.sel(lat=slice(0,45))\n",
    "dataset_lats_lons = dataset_lats.sel(lon=slice(120, 180))\n",
    "dataset_other_lats_lons = dataset_lats.sel(lon=slice(-180, -80))\n",
    "# combine datasets of interest across time meridian\n",
    "dataset_pacific = xr.concat([dataset_lats_lons, dataset_other_lats_lons], dim='lon')\n",
    "# average out time and save to nc file\n",
    "pacific_time_avg = dataset_pacific.t_mn.mean(dim='time')\n",
    "dataset_pacific['t_mn'] = pacific_time_avg\n",
    "dataset_pacific.to_netcdf(\"pacific_in_class.nc\", format=\"NETCDF4_CLASSIC\")"
   ]
  },
  {
   "cell_type": "code",
   "execution_count": 3,
   "metadata": {},
   "outputs": [
    {
     "name": "stdout",
     "output_type": "stream",
     "text": [
      "Invalid values passed in\n"
     ]
    }
   ],
   "source": [
    "# quick example of try / except blocks and how to provide good errors.\n",
    "def addNumsUnder100(x, y):\n",
    "    \"\"\"This function takes in two integers, adds the numbers if under 100, and returns\n",
    "    the result. If over 100, an error is thrown.\"\"\"\n",
    "    try:\n",
    "        if (x > 100):\n",
    "            raise ValueError\n",
    "        return x + y\n",
    "    except TypeError:\n",
    "        return \"Invalid parameter types, must be nums\"\n",
    "    except ValueError:\n",
    "        return \"Invalid values passed in\""
   ]
  },
  {
   "cell_type": "code",
   "execution_count": null,
   "metadata": {},
   "outputs": [],
   "source": []
  }
 ],
 "metadata": {
  "kernelspec": {
   "display_name": "Python 3",
   "language": "python",
   "name": "python3"
  },
  "language_info": {
   "codemirror_mode": {
    "name": "ipython",
    "version": 3
   },
   "file_extension": ".py",
   "mimetype": "text/x-python",
   "name": "python",
   "nbconvert_exporter": "python",
   "pygments_lexer": "ipython3",
   "version": "3.7.2"
  }
 },
 "nbformat": 4,
 "nbformat_minor": 2
}
